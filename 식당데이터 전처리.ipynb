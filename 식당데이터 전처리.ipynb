{
 "cells": [
  {
   "cell_type": "code",
   "execution_count": 1,
   "metadata": {},
   "outputs": [],
   "source": [
    "import pandas as pd"
   ]
  },
  {
   "cell_type": "code",
   "execution_count": 2,
   "metadata": {},
   "outputs": [],
   "source": [
    "data = pd.read_csv('광주_식당밥집_위도경도.csv', encoding='utf-8')"
   ]
  },
  {
   "cell_type": "code",
   "execution_count": 5,
   "metadata": {
    "scrolled": true
   },
   "outputs": [
    {
     "data": {
      "text/html": [
       "<div>\n",
       "<style scoped>\n",
       "    .dataframe tbody tr th:only-of-type {\n",
       "        vertical-align: middle;\n",
       "    }\n",
       "\n",
       "    .dataframe tbody tr th {\n",
       "        vertical-align: top;\n",
       "    }\n",
       "\n",
       "    .dataframe thead th {\n",
       "        text-align: right;\n",
       "    }\n",
       "</style>\n",
       "<table border=\"1\" class=\"dataframe\">\n",
       "  <thead>\n",
       "    <tr style=\"text-align: right;\">\n",
       "      <th></th>\n",
       "      <th>가게명</th>\n",
       "      <th>별점</th>\n",
       "      <th>주소</th>\n",
       "      <th>카테고리</th>\n",
       "      <th>위도</th>\n",
       "      <th>경도</th>\n",
       "    </tr>\n",
       "  </thead>\n",
       "  <tbody>\n",
       "    <tr>\n",
       "      <th>0</th>\n",
       "      <td>캐쥬얼식당</td>\n",
       "      <td>4.38</td>\n",
       "      <td>광주 남구 제중로46번길 10</td>\n",
       "      <td>한식</td>\n",
       "      <td>35.138621</td>\n",
       "      <td>126.914778</td>\n",
       "    </tr>\n",
       "    <tr>\n",
       "      <th>1</th>\n",
       "      <td>무드장</td>\n",
       "      <td>4.36</td>\n",
       "      <td>광주 남구 제중로46번길 3-8</td>\n",
       "      <td>아시안,양식</td>\n",
       "      <td>35.139130</td>\n",
       "      <td>126.914514</td>\n",
       "    </tr>\n",
       "    <tr>\n",
       "      <th>2</th>\n",
       "      <td>양림버거</td>\n",
       "      <td>4.44</td>\n",
       "      <td>광주 남구 백서로 93-1</td>\n",
       "      <td>치킨,피자,햄버거</td>\n",
       "      <td>35.140726</td>\n",
       "      <td>126.916139</td>\n",
       "    </tr>\n",
       "    <tr>\n",
       "      <th>3</th>\n",
       "      <td>까스까스돈까스</td>\n",
       "      <td>4.45</td>\n",
       "      <td>광주 남구 양림로 77 까스 까스 돈까스</td>\n",
       "      <td>돈가스,일식</td>\n",
       "      <td>35.138085</td>\n",
       "      <td>126.917221</td>\n",
       "    </tr>\n",
       "    <tr>\n",
       "      <th>4</th>\n",
       "      <td>한옥식당</td>\n",
       "      <td>4.34</td>\n",
       "      <td>광주 남구 백서로 87-2</td>\n",
       "      <td>한식</td>\n",
       "      <td>35.140312</td>\n",
       "      <td>126.915114</td>\n",
       "    </tr>\n",
       "  </tbody>\n",
       "</table>\n",
       "</div>"
      ],
      "text/plain": [
       "       가게명    별점                      주소       카테고리         위도          경도\n",
       "0    캐쥬얼식당  4.38        광주 남구 제중로46번길 10         한식  35.138621  126.914778\n",
       "1      무드장  4.36       광주 남구 제중로46번길 3-8     아시안,양식  35.139130  126.914514\n",
       "2     양림버거  4.44          광주 남구 백서로 93-1  치킨,피자,햄버거  35.140726  126.916139\n",
       "3  까스까스돈까스  4.45  광주 남구 양림로 77 까스 까스 돈까스     돈가스,일식  35.138085  126.917221\n",
       "4     한옥식당  4.34          광주 남구 백서로 87-2         한식  35.140312  126.915114"
      ]
     },
     "execution_count": 5,
     "metadata": {},
     "output_type": "execute_result"
    }
   ],
   "source": [
    "data.head()"
   ]
  },
  {
   "cell_type": "code",
   "execution_count": 6,
   "metadata": {
    "scrolled": true
   },
   "outputs": [
    {
     "data": {
      "text/plain": [
       "한식           170\n",
       "카페            68\n",
       "그 외           45\n",
       "고깃집           40\n",
       "아시안,양식        34\n",
       "돈가스,일식        31\n",
       "분식            26\n",
       "양식            26\n",
       "중식            23\n",
       "해물요리          22\n",
       "술집            13\n",
       "치킨,피자,햄버거     10\n",
       "국밥             8\n",
       "Name: 카테고리, dtype: int64"
      ]
     },
     "execution_count": 6,
     "metadata": {},
     "output_type": "execute_result"
    }
   ],
   "source": [
    "data['카테고리'].value_counts()"
   ]
  },
  {
   "cell_type": "code",
   "execution_count": 3,
   "metadata": {},
   "outputs": [],
   "source": [
    "data_cate = {\n",
    "    '한식' : '한식',\n",
    "    '아시아음식' : '아시안,양식',\n",
    "    '햄버거' : '치킨,피자,햄버거',\n",
    "    '돈가스' : '돈가스,일식',\n",
    "    '퓨전음식' : '그 외',\n",
    "    '백반,가정식' : '한식', \n",
    "    '일식당' : '돈가스,일식',\n",
    "    '종합분식' : '분식',\n",
    "    '중식당' : '중식',\n",
    "    '국밥' : '국밥',\n",
    "    '해물,생선요리' : '해물요리', \n",
    "    '우동,소바' : '돈가스,일식',\n",
    "    '김밥' : '분식',\n",
    "    '한식뷔페' : '한식',\n",
    "    '찌개,전골' : '한식',\n",
    "    '국수' : '분식',\n",
    "    '추어탕' : '그 외',\n",
    "    '해장국' : '그 외',\n",
    "    '칼국수,만두' : '그 외', \n",
    "    '육류,고기요리' : '고깃집', \n",
    "    '양식' : '양식', \n",
    "    '아귀찜,해물찜' : '해물요리',\n",
    "    '주꾸미요리' : '해물요리',\n",
    "    '족발,보쌈' : '분식',\n",
    "    '백숙,삼계탕' : '그 외',\n",
    "    '돼지고기구이' : '고깃집',\n",
    "    '소고기구이' : '고깃집', \n",
    "    '한정식' : '한식', \n",
    "    '감자탕' : '그 외',\n",
    "    '전복요리' : '해물요리',\n",
    "    '스파게티,파스타전문' : '아시안,양식', \n",
    "    '이자카야' : '술집',\n",
    "    '덮밥' : '분식',\n",
    "    '브런치' : '카페', \n",
    "    '포장마차' : '술집', \n",
    "    '요리주점' : '술집', \n",
    "    '패밀리레스토랑' : '아시안,양식',\n",
    "    '이탈리아음식' : '아시안,양식', \n",
    "    '상무팥죽' : '그 외', \n",
    "    '카페' : '카페', \n",
    "    '카페,디저트' : '카페', \n",
    "    '베이커리' : '카페', \n",
    "    '초밥,롤' : '돈가스,일식', \n",
    "    '치킨,닭강정' : '치킨,피자,햄버거',\n",
    "    '게요리' : '그 외',\n",
    "    '오리요리' : '고깃집', \n",
    "    '프랑스음식' : '아시안,양식', \n",
    "    '곱창,막창,양' : '고깃집', \n",
    "    '샤브샤브' : '고깃집', \n",
    "    '피자' : '치킨,피자,햄버거', \n",
    "    '샌드위치' : '그 외', \n",
    "    '스테이크,립' : '아시안,양식',\n",
    "    '전,빈대떡' : '그 외', \n",
    "    '분식' : '분식', \n",
    "    '해산물뷔페' : '해물요리', \n",
    "    '생선회' : '해물요리', \n",
    "    '양꼬치' : '고깃집', \n",
    "    '케이크전문' : '그 외', \n",
    "    '바(BAR)' : '술집', \n",
    "    '닭요리' : '고깃집',\n",
    "    '와인' : '술집',\n",
    "    '카레' : '아시안,양식', \n",
    "    '대게요리' : '해물요리', \n",
    "    '일식,초밥뷔페' : '돈가스,일식', \n",
    "    '죽' : '그 외', \n",
    "    '닭갈비' : '그 외', \n",
    "    '낙지요리' : '해물요리', \n",
    "    '장어,먹장어요리' : '해물요리',\n",
    "    '맥주,호프' : '술집', \n",
    "    '매운탕,해물탕' : '해물요리', \n",
    "    '빙수' : '그 외', \n",
    "    '초콜릿전문점' : '그 외'\n",
    "    \n",
    "}"
   ]
  },
  {
   "cell_type": "code",
   "execution_count": 4,
   "metadata": {},
   "outputs": [],
   "source": [
    "data['카테고리'] =data['카테고리'].map(data_cate)"
   ]
  },
  {
   "cell_type": "code",
   "execution_count": 7,
   "metadata": {},
   "outputs": [],
   "source": [
    "data.to_csv('식당데이터 전처리 day1.csv', index=False)"
   ]
  },
  {
   "cell_type": "code",
   "execution_count": null,
   "metadata": {},
   "outputs": [],
   "source": []
  }
 ],
 "metadata": {
  "kernelspec": {
   "display_name": "Python 3",
   "language": "python",
   "name": "python3"
  },
  "language_info": {
   "codemirror_mode": {
    "name": "ipython",
    "version": 3
   },
   "file_extension": ".py",
   "mimetype": "text/x-python",
   "name": "python",
   "nbconvert_exporter": "python",
   "pygments_lexer": "ipython3",
   "version": "3.8.3"
  }
 },
 "nbformat": 4,
 "nbformat_minor": 4
}
