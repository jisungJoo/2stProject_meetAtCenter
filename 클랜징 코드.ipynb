{
 "cells": [
  {
   "cell_type": "code",
   "execution_count": 1,
   "metadata": {},
   "outputs": [],
   "source": [
    "from konlpy.tag import Okt\n",
    "from collections import Counter\n",
    "import pandas as pd"
   ]
  },
  {
   "cell_type": "code",
   "execution_count": 2,
   "metadata": {},
   "outputs": [],
   "source": [
    "okt = Okt()"
   ]
  },
  {
   "cell_type": "markdown",
   "metadata": {},
   "source": [
    "### 파일 불러오기 및 리뷰 칼럼을 리스트화 해주기!"
   ]
  },
  {
   "cell_type": "markdown",
   "metadata": {},
   "source": [
    "###### 분위기"
   ]
  },
  {
   "cell_type": "code",
   "execution_count": 3,
   "metadata": {},
   "outputs": [],
   "source": [
    "atmosphere = pd.read_excel('C:/Users/SMT0903/2st_file/cafe/cafe_atmosphere(600).xlsx')"
   ]
  },
  {
   "cell_type": "code",
   "execution_count": 4,
   "metadata": {
    "scrolled": true
   },
   "outputs": [
    {
     "data": {
      "text/html": [
       "<div>\n",
       "<style scoped>\n",
       "    .dataframe tbody tr th:only-of-type {\n",
       "        vertical-align: middle;\n",
       "    }\n",
       "\n",
       "    .dataframe tbody tr th {\n",
       "        vertical-align: top;\n",
       "    }\n",
       "\n",
       "    .dataframe thead th {\n",
       "        text-align: right;\n",
       "    }\n",
       "</style>\n",
       "<table border=\"1\" class=\"dataframe\">\n",
       "  <thead>\n",
       "    <tr style=\"text-align: right;\">\n",
       "      <th></th>\n",
       "      <th>Unnamed: 0</th>\n",
       "      <th>리뷰</th>\n",
       "    </tr>\n",
       "  </thead>\n",
       "  <tbody>\n",
       "    <tr>\n",
       "      <th>0</th>\n",
       "      <td>0</td>\n",
       "      <td>요즘 앞산에 가보면 카페가 굉장히 많은데요.그 많은 카페 사이에서 골목에 있는 카페...</td>\n",
       "    </tr>\n",
       "    <tr>\n",
       "      <th>1</th>\n",
       "      <td>1</td>\n",
       "      <td>오늘은 예쁜 가을이 지나가기 전에애정 동생 가족들이랑나들이 가기로 했어요.어제 짐을...</td>\n",
       "    </tr>\n",
       "    <tr>\n",
       "      <th>2</th>\n",
       "      <td>2</td>\n",
       "      <td>워낙 커피랑 디저트를 좋아해서 요즘에는대구 분위기 좋은 카페 찾으러 다니는 재미에푹...</td>\n",
       "    </tr>\n",
       "    <tr>\n",
       "      <th>3</th>\n",
       "      <td>3</td>\n",
       "      <td>안녕하세요 여러분! 송초코입니다!오늘은 천안카페 소개해드리러 왔어요.오랜만에 친구 ...</td>\n",
       "    </tr>\n",
       "    <tr>\n",
       "      <th>4</th>\n",
       "      <td>4</td>\n",
       "      <td>조만간 눈이 올것만 같은 날씨에요아직 낮에는  좀 따뜻한 편이지만 아침 저녁으로는 ...</td>\n",
       "    </tr>\n",
       "    <tr>\n",
       "      <th>...</th>\n",
       "      <td>...</td>\n",
       "      <td>...</td>\n",
       "    </tr>\n",
       "    <tr>\n",
       "      <th>623</th>\n",
       "      <td>623</td>\n",
       "      <td>안녕하세요! 오늘도 어게인입니다:)오늘도 광주 분위기 좋은 카페 찾아 나서기 탐방중...</td>\n",
       "    </tr>\n",
       "    <tr>\n",
       "      <th>624</th>\n",
       "      <td>624</td>\n",
       "      <td>안녕하세요!! 바나나 오피스의승사원 입니다!!(따단)오늘은 국내 여행이라고 하면 가...</td>\n",
       "    </tr>\n",
       "    <tr>\n",
       "      <th>625</th>\n",
       "      <td>625</td>\n",
       "      <td>3월의 첫 금요일이네요~!오늘은 인천 구월동에 분위기 좋은 카페를 소개해드릴게요~저...</td>\n",
       "    </tr>\n",
       "    <tr>\n",
       "      <th>626</th>\n",
       "      <td>626</td>\n",
       "      <td>의정부가볼만한곳 의정부 디저트카페 카페리브로 이색카페 분위기좋은카페의정부 가볼만한 ...</td>\n",
       "    </tr>\n",
       "    <tr>\n",
       "      <th>627</th>\n",
       "      <td>627</td>\n",
       "      <td>광화문에서 밥을 먹고가보고 싶었던 한옥카페를 찾아 삼청동까지 걸어왔다.삼청동 아트선...</td>\n",
       "    </tr>\n",
       "  </tbody>\n",
       "</table>\n",
       "<p>628 rows × 2 columns</p>\n",
       "</div>"
      ],
      "text/plain": [
       "     Unnamed: 0                                                 리뷰\n",
       "0             0  요즘 앞산에 가보면 카페가 굉장히 많은데요.그 많은 카페 사이에서 골목에 있는 카페...\n",
       "1             1  오늘은 예쁜 가을이 지나가기 전에애정 동생 가족들이랑나들이 가기로 했어요.어제 짐을...\n",
       "2             2  워낙 커피랑 디저트를 좋아해서 요즘에는대구 분위기 좋은 카페 찾으러 다니는 재미에푹...\n",
       "3             3  안녕하세요 여러분! 송초코입니다!오늘은 천안카페 소개해드리러 왔어요.오랜만에 친구 ...\n",
       "4             4  조만간 눈이 올것만 같은 날씨에요아직 낮에는  좀 따뜻한 편이지만 아침 저녁으로는 ...\n",
       "..          ...                                                ...\n",
       "623         623  안녕하세요! 오늘도 어게인입니다:)오늘도 광주 분위기 좋은 카페 찾아 나서기 탐방중...\n",
       "624         624  안녕하세요!! 바나나 오피스의승사원 입니다!!(따단)오늘은 국내 여행이라고 하면 가...\n",
       "625         625  3월의 첫 금요일이네요~!오늘은 인천 구월동에 분위기 좋은 카페를 소개해드릴게요~저...\n",
       "626         626  의정부가볼만한곳 의정부 디저트카페 카페리브로 이색카페 분위기좋은카페의정부 가볼만한 ...\n",
       "627         627  광화문에서 밥을 먹고가보고 싶었던 한옥카페를 찾아 삼청동까지 걸어왔다.삼청동 아트선...\n",
       "\n",
       "[628 rows x 2 columns]"
      ]
     },
     "execution_count": 4,
     "metadata": {},
     "output_type": "execute_result"
    }
   ],
   "source": [
    "atmosphere"
   ]
  },
  {
   "cell_type": "code",
   "execution_count": 5,
   "metadata": {},
   "outputs": [],
   "source": [
    "temp = atmosphere['리뷰']"
   ]
  },
  {
   "cell_type": "code",
   "execution_count": 6,
   "metadata": {},
   "outputs": [],
   "source": [
    "atmosphere_series = pd.Series(temp)"
   ]
  },
  {
   "cell_type": "code",
   "execution_count": 7,
   "metadata": {
    "collapsed": true
   },
   "outputs": [
    {
     "data": {
      "text/plain": [
       "0      요즘 앞산에 가보면 카페가 굉장히 많은데요.그 많은 카페 사이에서 골목에 있는 카페...\n",
       "1      오늘은 예쁜 가을이 지나가기 전에애정 동생 가족들이랑나들이 가기로 했어요.어제 짐을...\n",
       "2      워낙 커피랑 디저트를 좋아해서 요즘에는대구 분위기 좋은 카페 찾으러 다니는 재미에푹...\n",
       "3      안녕하세요 여러분! 송초코입니다!오늘은 천안카페 소개해드리러 왔어요.오랜만에 친구 ...\n",
       "4      조만간 눈이 올것만 같은 날씨에요아직 낮에는  좀 따뜻한 편이지만 아침 저녁으로는 ...\n",
       "                             ...                        \n",
       "623    안녕하세요! 오늘도 어게인입니다:)오늘도 광주 분위기 좋은 카페 찾아 나서기 탐방중...\n",
       "624    안녕하세요!! 바나나 오피스의승사원 입니다!!(따단)오늘은 국내 여행이라고 하면 가...\n",
       "625    3월의 첫 금요일이네요~!오늘은 인천 구월동에 분위기 좋은 카페를 소개해드릴게요~저...\n",
       "626    의정부가볼만한곳 의정부 디저트카페 카페리브로 이색카페 분위기좋은카페의정부 가볼만한 ...\n",
       "627    광화문에서 밥을 먹고가보고 싶었던 한옥카페를 찾아 삼청동까지 걸어왔다.삼청동 아트선...\n",
       "Name: 리뷰, Length: 628, dtype: object"
      ]
     },
     "execution_count": 7,
     "metadata": {},
     "output_type": "execute_result"
    }
   ],
   "source": [
    "atmosphere_series"
   ]
  },
  {
   "cell_type": "markdown",
   "metadata": {},
   "source": [
    "###### 디져트"
   ]
  },
  {
   "cell_type": "code",
   "execution_count": 8,
   "metadata": {},
   "outputs": [],
   "source": [
    "dessert = pd.read_csv('C:/Users/SMT0903/2st_file/cafe/cafe_bakery(600).csv')"
   ]
  },
  {
   "cell_type": "code",
   "execution_count": 9,
   "metadata": {
    "collapsed": true
   },
   "outputs": [
    {
     "data": {
      "text/html": [
       "<div>\n",
       "<style scoped>\n",
       "    .dataframe tbody tr th:only-of-type {\n",
       "        vertical-align: middle;\n",
       "    }\n",
       "\n",
       "    .dataframe tbody tr th {\n",
       "        vertical-align: top;\n",
       "    }\n",
       "\n",
       "    .dataframe thead th {\n",
       "        text-align: right;\n",
       "    }\n",
       "</style>\n",
       "<table border=\"1\" class=\"dataframe\">\n",
       "  <thead>\n",
       "    <tr style=\"text-align: right;\">\n",
       "      <th></th>\n",
       "      <th>0</th>\n",
       "    </tr>\n",
       "  </thead>\n",
       "  <tbody>\n",
       "    <tr>\n",
       "      <th>0</th>\n",
       "      <td>가을이 되면 괜스레 울적해지는 거 같아요~안그래도 확진자도 계속 두 자리 수에서세 ...</td>\n",
       "    </tr>\n",
       "    <tr>\n",
       "      <th>1</th>\n",
       "      <td>거리두기도 1단계로 한층 완화된 덕분에인천 사는 사촌동생이 광주로 내려왔어요~대학 ...</td>\n",
       "    </tr>\n",
       "    <tr>\n",
       "      <th>2</th>\n",
       "      <td>제가 일주일 중 가장 기다리는 요일인 월요일이 돌아왔어요주말을 가장 좋아할 수도 있...</td>\n",
       "    </tr>\n",
       "    <tr>\n",
       "      <th>3</th>\n",
       "      <td>1:1 수업을 받았는데제가 받아본 광주 원데이클래스 중 가장 최고였습니다. 현재 ...</td>\n",
       "    </tr>\n",
       "    <tr>\n",
       "      <th>4</th>\n",
       "      <td>브런치 메뉴도 즐길 수 있는 광주디저트카페 ! 첨단카페 홀라로사에서 브런치 먹고 왔...</td>\n",
       "    </tr>\n",
       "    <tr>\n",
       "      <th>...</th>\n",
       "      <td>...</td>\n",
       "    </tr>\n",
       "    <tr>\n",
       "      <th>595</th>\n",
       "      <td>하잇하잇오늘은 휴일입니다.쉬는군요!!그러면서 아침은 먹지 않았죠!(평소에도 먹지 않...</td>\n",
       "    </tr>\n",
       "    <tr>\n",
       "      <th>596</th>\n",
       "      <td>아직 코로나 1.5단계라서 사람들 많이 없을시간이었는데 한~두시간 지나니까 엄청 많...</td>\n",
       "    </tr>\n",
       "    <tr>\n",
       "      <th>597</th>\n",
       "      <td>안녕하세요~ 하니에요:)신랑이랑 우리 딸기랑 광주 수완지구 디저트 카페밀당 다녀왔어...</td>\n",
       "    </tr>\n",
       "    <tr>\n",
       "      <th>598</th>\n",
       "      <td>친구랑 오랜만에 집과 머나먼 동명동을 찾았어요!진짜 너무 멀어서 1년에 몇번 올까 ...</td>\n",
       "    </tr>\n",
       "    <tr>\n",
       "      <th>599</th>\n",
       "      <td>역시 핫한 동네인 수완지구.요즘 수완지구 핫플 한곳이 한곳더 생겼다는 첩보를 듣고막...</td>\n",
       "    </tr>\n",
       "  </tbody>\n",
       "</table>\n",
       "<p>600 rows × 1 columns</p>\n",
       "</div>"
      ],
      "text/plain": [
       "                                                     0\n",
       "0    가을이 되면 괜스레 울적해지는 거 같아요~안그래도 확진자도 계속 두 자리 수에서세 ...\n",
       "1    거리두기도 1단계로 한층 완화된 덕분에인천 사는 사촌동생이 광주로 내려왔어요~대학 ...\n",
       "2    제가 일주일 중 가장 기다리는 요일인 월요일이 돌아왔어요주말을 가장 좋아할 수도 있...\n",
       "3     1:1 수업을 받았는데제가 받아본 광주 원데이클래스 중 가장 최고였습니다. 현재 ...\n",
       "4    브런치 메뉴도 즐길 수 있는 광주디저트카페 ! 첨단카페 홀라로사에서 브런치 먹고 왔...\n",
       "..                                                 ...\n",
       "595  하잇하잇오늘은 휴일입니다.쉬는군요!!그러면서 아침은 먹지 않았죠!(평소에도 먹지 않...\n",
       "596  아직 코로나 1.5단계라서 사람들 많이 없을시간이었는데 한~두시간 지나니까 엄청 많...\n",
       "597  안녕하세요~ 하니에요:)신랑이랑 우리 딸기랑 광주 수완지구 디저트 카페밀당 다녀왔어...\n",
       "598  친구랑 오랜만에 집과 머나먼 동명동을 찾았어요!진짜 너무 멀어서 1년에 몇번 올까 ...\n",
       "599  역시 핫한 동네인 수완지구.요즘 수완지구 핫플 한곳이 한곳더 생겼다는 첩보를 듣고막...\n",
       "\n",
       "[600 rows x 1 columns]"
      ]
     },
     "execution_count": 9,
     "metadata": {},
     "output_type": "execute_result"
    }
   ],
   "source": [
    "dessert"
   ]
  },
  {
   "cell_type": "code",
   "execution_count": 10,
   "metadata": {},
   "outputs": [],
   "source": [
    "temp = atmosphere['리뷰']"
   ]
  },
  {
   "cell_type": "code",
   "execution_count": null,
   "metadata": {},
   "outputs": [],
   "source": []
  },
  {
   "cell_type": "markdown",
   "metadata": {},
   "source": [
    "###### 맛"
   ]
  },
  {
   "cell_type": "code",
   "execution_count": 11,
   "metadata": {},
   "outputs": [],
   "source": [
    "favor = pd.read_csv('C:/Users/SMT0903/2st_file/cafe/cafe_favor(800).csv')"
   ]
  },
  {
   "cell_type": "code",
   "execution_count": 12,
   "metadata": {
    "collapsed": true
   },
   "outputs": [
    {
     "data": {
      "text/html": [
       "<div>\n",
       "<style scoped>\n",
       "    .dataframe tbody tr th:only-of-type {\n",
       "        vertical-align: middle;\n",
       "    }\n",
       "\n",
       "    .dataframe tbody tr th {\n",
       "        vertical-align: top;\n",
       "    }\n",
       "\n",
       "    .dataframe thead th {\n",
       "        text-align: right;\n",
       "    }\n",
       "</style>\n",
       "<table border=\"1\" class=\"dataframe\">\n",
       "  <thead>\n",
       "    <tr style=\"text-align: right;\">\n",
       "      <th></th>\n",
       "      <th>0</th>\n",
       "    </tr>\n",
       "  </thead>\n",
       "  <tbody>\n",
       "    <tr>\n",
       "      <th>0</th>\n",
       "      <td>분당동의 한적한 골목으로 들어서면, 엔틱한 느낌의 건물을 하나 만날 수 있는데, 이...</td>\n",
       "    </tr>\n",
       "    <tr>\n",
       "      <th>1</th>\n",
       "      <td>롯데백화점에서 저녁먹고 커피 어디서 마시지 하다가웨스턴돔 카페 비라티오에 갔어요커피...</td>\n",
       "    </tr>\n",
       "    <tr>\n",
       "      <th>2</th>\n",
       "      <td>사진, 글, 영상 by 테리아오늘은 제주여행코스를 어떻게 잡고 돌아보면 괜찮을까? ...</td>\n",
       "    </tr>\n",
       "    <tr>\n",
       "      <th>3</th>\n",
       "      <td>[후쿠오카 여행_추천카페] 모닝커피가 생각 날때, 라떼가 맛있는 훜커피 fuk co...</td>\n",
       "    </tr>\n",
       "    <tr>\n",
       "      <th>4</th>\n",
       "      <td>카페인 중독자커피 처돌이나로 말할것~~ 같으면새내기 시절 우연히 알게된 골목에 위치...</td>\n",
       "    </tr>\n",
       "    <tr>\n",
       "      <th>...</th>\n",
       "      <td>...</td>\n",
       "    </tr>\n",
       "    <tr>\n",
       "      <th>813</th>\n",
       "      <td>NaN</td>\n",
       "    </tr>\n",
       "    <tr>\n",
       "      <th>814</th>\n",
       "      <td>**데일리로 업로드 했다가, 일주일 단위로 재편집해서 올리는 퇴사로그#wake me...</td>\n",
       "    </tr>\n",
       "    <tr>\n",
       "      <th>815</th>\n",
       "      <td>NaN</td>\n",
       "    </tr>\n",
       "    <tr>\n",
       "      <th>816</th>\n",
       "      <td>용산역 철길쪽 맛있는 커피가 있는 카페에 다녀왔어요!용산역에서 걸어서 10분정도 걸...</td>\n",
       "    </tr>\n",
       "    <tr>\n",
       "      <th>817</th>\n",
       "      <td>NaN</td>\n",
       "    </tr>\n",
       "  </tbody>\n",
       "</table>\n",
       "<p>818 rows × 1 columns</p>\n",
       "</div>"
      ],
      "text/plain": [
       "                                                     0\n",
       "0    분당동의 한적한 골목으로 들어서면, 엔틱한 느낌의 건물을 하나 만날 수 있는데, 이...\n",
       "1    롯데백화점에서 저녁먹고 커피 어디서 마시지 하다가웨스턴돔 카페 비라티오에 갔어요커피...\n",
       "2    사진, 글, 영상 by 테리아오늘은 제주여행코스를 어떻게 잡고 돌아보면 괜찮을까? ...\n",
       "3    [후쿠오카 여행_추천카페] 모닝커피가 생각 날때, 라떼가 맛있는 훜커피 fuk co...\n",
       "4    카페인 중독자커피 처돌이나로 말할것~~ 같으면새내기 시절 우연히 알게된 골목에 위치...\n",
       "..                                                 ...\n",
       "813                                                NaN\n",
       "814  **데일리로 업로드 했다가, 일주일 단위로 재편집해서 올리는 퇴사로그#wake me...\n",
       "815                                                NaN\n",
       "816  용산역 철길쪽 맛있는 커피가 있는 카페에 다녀왔어요!용산역에서 걸어서 10분정도 걸...\n",
       "817                                                NaN\n",
       "\n",
       "[818 rows x 1 columns]"
      ]
     },
     "execution_count": 12,
     "metadata": {},
     "output_type": "execute_result"
    }
   ],
   "source": [
    "favor"
   ]
  },
  {
   "cell_type": "markdown",
   "metadata": {},
   "source": [
    "###### 서비스"
   ]
  },
  {
   "cell_type": "code",
   "execution_count": 13,
   "metadata": {},
   "outputs": [],
   "source": [
    "service = pd.read_csv('C:/Users/SMT0903/2st_file/cafe/cafe_service(721).csv')"
   ]
  },
  {
   "cell_type": "code",
   "execution_count": 14,
   "metadata": {
    "collapsed": true
   },
   "outputs": [
    {
     "data": {
      "text/html": [
       "<div>\n",
       "<style scoped>\n",
       "    .dataframe tbody tr th:only-of-type {\n",
       "        vertical-align: middle;\n",
       "    }\n",
       "\n",
       "    .dataframe tbody tr th {\n",
       "        vertical-align: top;\n",
       "    }\n",
       "\n",
       "    .dataframe thead th {\n",
       "        text-align: right;\n",
       "    }\n",
       "</style>\n",
       "<table border=\"1\" class=\"dataframe\">\n",
       "  <thead>\n",
       "    <tr style=\"text-align: right;\">\n",
       "      <th></th>\n",
       "      <th>0</th>\n",
       "    </tr>\n",
       "  </thead>\n",
       "  <tbody>\n",
       "    <tr>\n",
       "      <th>0</th>\n",
       "      <td>본격적인 여름인건지 엄청엄청 더워지기 시작했어요 .오늘은 낮 최고 기온이 35 이상...</td>\n",
       "    </tr>\n",
       "    <tr>\n",
       "      <th>1</th>\n",
       "      <td>모시러 운전동행서비스#시간제수행기사 #모시러 #운전동행안녕하세요 민사임당입니다. 운...</td>\n",
       "    </tr>\n",
       "    <tr>\n",
       "      <th>2</th>\n",
       "      <td>ㅌㅌㅌㅌㅌㅌㅌㅌㅊㅊㅊㅊㅊㅊㅊ 글씨체 테스트 ㅋㅋㅋ 오늘은 글씨체를 바꿔볼까요~? ㅎ...</td>\n",
       "    </tr>\n",
       "    <tr>\n",
       "      <th>3</th>\n",
       "      <td>싱그러운 5월의 초록이 아름다운 양재천봄엔 벚꽃, 여름엔 초록, 가을엔 노란 은행잎...</td>\n",
       "    </tr>\n",
       "    <tr>\n",
       "      <th>4</th>\n",
       "      <td>부천역 예쁜 카페 [블랙소울]노을진 하늘이 예쁘던 어느 날,계속 비가 오다가 오후에...</td>\n",
       "    </tr>\n",
       "    <tr>\n",
       "      <th>...</th>\n",
       "      <td>...</td>\n",
       "    </tr>\n",
       "    <tr>\n",
       "      <th>716</th>\n",
       "      <td>족욕 카페에 가보신 적 있으신가요? 얼마 전에 여행 온 친구랑 같이 제주도 애월 카...</td>\n",
       "    </tr>\n",
       "    <tr>\n",
       "      <th>717</th>\n",
       "      <td>안녕하세요~  다들 크리스마스 잘 보내셨나요 ~? 오늘은 여러분들께 제 집앞쪽에있는...</td>\n",
       "    </tr>\n",
       "    <tr>\n",
       "      <th>718</th>\n",
       "      <td>벌써 세 번째 방문!위치는 조금 애매하지만..조용하니 분위기 너무 좋은 망포동 카페...</td>\n",
       "    </tr>\n",
       "    <tr>\n",
       "      <th>719</th>\n",
       "      <td>오늘 포스팅할 곳은 양재천에 위치한 핫한 카페입니다.주말에는 사람이 많을꺼 같아화요...</td>\n",
       "    </tr>\n",
       "    <tr>\n",
       "      <th>720</th>\n",
       "      <td>요즘 카페에서 공부하는 카공족 들이 늘어나면서 독서실과 카페를 결합한 스터디카페들이...</td>\n",
       "    </tr>\n",
       "  </tbody>\n",
       "</table>\n",
       "<p>721 rows × 1 columns</p>\n",
       "</div>"
      ],
      "text/plain": [
       "                                                     0\n",
       "0    본격적인 여름인건지 엄청엄청 더워지기 시작했어요 .오늘은 낮 최고 기온이 35 이상...\n",
       "1    모시러 운전동행서비스#시간제수행기사 #모시러 #운전동행안녕하세요 민사임당입니다. 운...\n",
       "2    ㅌㅌㅌㅌㅌㅌㅌㅌㅊㅊㅊㅊㅊㅊㅊ 글씨체 테스트 ㅋㅋㅋ 오늘은 글씨체를 바꿔볼까요~? ㅎ...\n",
       "3    싱그러운 5월의 초록이 아름다운 양재천봄엔 벚꽃, 여름엔 초록, 가을엔 노란 은행잎...\n",
       "4    부천역 예쁜 카페 [블랙소울]노을진 하늘이 예쁘던 어느 날,계속 비가 오다가 오후에...\n",
       "..                                                 ...\n",
       "716  족욕 카페에 가보신 적 있으신가요? 얼마 전에 여행 온 친구랑 같이 제주도 애월 카...\n",
       "717  안녕하세요~  다들 크리스마스 잘 보내셨나요 ~? 오늘은 여러분들께 제 집앞쪽에있는...\n",
       "718  벌써 세 번째 방문!위치는 조금 애매하지만..조용하니 분위기 너무 좋은 망포동 카페...\n",
       "719  오늘 포스팅할 곳은 양재천에 위치한 핫한 카페입니다.주말에는 사람이 많을꺼 같아화요...\n",
       "720  요즘 카페에서 공부하는 카공족 들이 늘어나면서 독서실과 카페를 결합한 스터디카페들이...\n",
       "\n",
       "[721 rows x 1 columns]"
      ]
     },
     "execution_count": 14,
     "metadata": {},
     "output_type": "execute_result"
    }
   ],
   "source": [
    "service"
   ]
  },
  {
   "cell_type": "markdown",
   "metadata": {},
   "source": [
    "atmosphere = 분위기 좋은카페\n",
    "\n",
    "\n",
    "dessert = 디져트 카페\n",
    "\n",
    "\n",
    "favor = 맛있는 카페\n",
    "\n",
    "\n",
    "service = 서비스가 좋은 카페"
   ]
  },
  {
   "cell_type": "markdown",
   "metadata": {},
   "source": [
    "### 정규화\n",
    "- 자음이랑 이모티콘 ㅂㅇ 한글만 가져오자"
   ]
  },
  {
   "cell_type": "code",
   "execution_count": 15,
   "metadata": {},
   "outputs": [],
   "source": [
    "import re"
   ]
  },
  {
   "cell_type": "code",
   "execution_count": 16,
   "metadata": {},
   "outputs": [],
   "source": [
    "def strip_hangeul(sentence):\n",
    "    return re.compile('[가-힣]+').findall(str(sentence))   "
   ]
  },
  {
   "cell_type": "code",
   "execution_count": 17,
   "metadata": {},
   "outputs": [],
   "source": [
    "final = atmosphere_series.apply(strip_hangeul)"
   ]
  },
  {
   "cell_type": "code",
   "execution_count": 18,
   "metadata": {
    "collapsed": true
   },
   "outputs": [
    {
     "data": {
      "text/plain": [
       "0      [요즘, 앞산에, 가보면, 카페가, 굉장히, 많은데요, 그, 많은, 카페, 사이에서...\n",
       "1      [오늘은, 예쁜, 가을이, 지나가기, 전에애정, 동생, 가족들이랑나들이, 가기로, ...\n",
       "2      [워낙, 커피랑, 디저트를, 좋아해서, 요즘에는대구, 분위기, 좋은, 카페, 찾으러...\n",
       "3      [안녕하세요, 여러분, 송초코입니다, 오늘은, 천안카페, 소개해드리러, 왔어요, 오...\n",
       "4      [조만간, 눈이, 올것만, 같은, 날씨에요아직, 낮에는, 좀, 따뜻한, 편이지만, ...\n",
       "                             ...                        \n",
       "623    [안녕하세요, 오늘도, 어게인입니다, 오늘도, 광주, 분위기, 좋은, 카페, 찾아,...\n",
       "624    [안녕하세요, 바나나, 오피스의승사원, 입니다, 따단, 오늘은, 국내, 여행이라고,...\n",
       "625    [월의, 첫, 금요일이네요, 오늘은, 인천, 구월동에, 분위기, 좋은, 카페를, 소...\n",
       "626    [의정부가볼만한곳, 의정부, 디저트카페, 카페리브로, 이색카페, 분위기좋은카페의정부...\n",
       "627    [광화문에서, 밥을, 먹고가보고, 싶었던, 한옥카페를, 찾아, 삼청동까지, 걸어왔다...\n",
       "Name: 리뷰, Length: 628, dtype: object"
      ]
     },
     "execution_count": 18,
     "metadata": {},
     "output_type": "execute_result"
    }
   ],
   "source": [
    "final"
   ]
  },
  {
   "cell_type": "markdown",
   "metadata": {},
   "source": [
    "###### final[0]번만 예시로 해보기 count해보기"
   ]
  },
  {
   "cell_type": "code",
   "execution_count": 19,
   "metadata": {},
   "outputs": [],
   "source": [
    "from sklearn.feature_extraction.text import CountVectorizer\n",
    "countVec = CountVectorizer()"
   ]
  },
  {
   "cell_type": "code",
   "execution_count": 20,
   "metadata": {
    "scrolled": true
   },
   "outputs": [
    {
     "data": {
      "text/plain": [
       "CountVectorizer()"
      ]
     },
     "execution_count": 20,
     "metadata": {},
     "output_type": "execute_result"
    }
   ],
   "source": [
    "countVec.fit(final[0])"
   ]
  },
  {
   "cell_type": "code",
   "execution_count": 22,
   "metadata": {
    "scrolled": true
   },
   "outputs": [],
   "source": [
    "final_str = \" \".join(final[0])"
   ]
  },
  {
   "cell_type": "code",
   "execution_count": 23,
   "metadata": {},
   "outputs": [],
   "source": [
    "noun = okt.nouns(final_str)"
   ]
  },
  {
   "cell_type": "code",
   "execution_count": 24,
   "metadata": {
    "collapsed": true
   },
   "outputs": [
    {
     "name": "stdout",
     "output_type": "stream",
     "text": [
      "('카페', 18)\n",
      "('스콘', 13)\n",
      "('것', 13)\n",
      "('커피', 11)\n",
      "('분위기', 10)\n",
      "('수', 10)\n",
      "('친구', 8)\n",
      "('느낌', 8)\n",
      "('대구', 7)\n",
      "('인테리어', 6)\n"
     ]
    }
   ],
   "source": [
    "count = Counter(noun)\n",
    "noun_list = count.most_common(10)\n",
    "for i in noun_list:\n",
    "    print(i)"
   ]
  },
  {
   "cell_type": "markdown",
   "metadata": {},
   "source": [
    "###### 전체 데이터를 str 형태로 바꿔주자"
   ]
  },
  {
   "cell_type": "code",
   "execution_count": 25,
   "metadata": {},
   "outputs": [],
   "source": [
    "string = []\n",
    "for i in final:\n",
    "    final_str = \" \".join(i)\n",
    "    string.append(final_str)"
   ]
  },
  {
   "cell_type": "code",
   "execution_count": 26,
   "metadata": {},
   "outputs": [],
   "source": [
    "atmosphere_string = string"
   ]
  },
  {
   "cell_type": "markdown",
   "metadata": {},
   "source": [
    "## for문으로 만들자!"
   ]
  },
  {
   "cell_type": "code",
   "execution_count": 27,
   "metadata": {},
   "outputs": [],
   "source": [
    "list = [dessert, favor, service]"
   ]
  },
  {
   "cell_type": "code",
   "execution_count": null,
   "metadata": {},
   "outputs": [],
   "source": [
    "for i in list:\n",
    "    temp = i['0']\n",
    "    series = pd.Series(temp)\n",
    "    final = series.apply(strip_hangeul)\n",
    "    string = []\n",
    "    for i in final:\n",
    "        final_str = \" \".join(i)\n",
    "        string.append(final_str)\n",
    "\n"
   ]
  },
  {
   "cell_type": "code",
   "execution_count": null,
   "metadata": {},
   "outputs": [],
   "source": []
  },
  {
   "cell_type": "code",
   "execution_count": null,
   "metadata": {},
   "outputs": [],
   "source": []
  }
 ],
 "metadata": {
  "kernelspec": {
   "display_name": "Python 3",
   "language": "python",
   "name": "python3"
  },
  "language_info": {
   "codemirror_mode": {
    "name": "ipython",
    "version": 3
   },
   "file_extension": ".py",
   "mimetype": "text/x-python",
   "name": "python",
   "nbconvert_exporter": "python",
   "pygments_lexer": "ipython3",
   "version": "3.8.3"
  }
 },
 "nbformat": 4,
 "nbformat_minor": 4
}
